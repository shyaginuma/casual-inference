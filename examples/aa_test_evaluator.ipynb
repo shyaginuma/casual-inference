{
 "cells": [
  {
   "cell_type": "code",
   "execution_count": 1,
   "metadata": {},
   "outputs": [],
   "source": [
    "from casual_inference.dataset import create_sample_ab_result\n",
    "from casual_inference.evaluator import AATestEvaluator"
   ]
  },
  {
   "cell_type": "code",
   "execution_count": 2,
   "metadata": {},
   "outputs": [
    {
     "data": {
      "text/html": [
       "<div>\n",
       "<style scoped>\n",
       "    .dataframe tbody tr th:only-of-type {\n",
       "        vertical-align: middle;\n",
       "    }\n",
       "\n",
       "    .dataframe tbody tr th {\n",
       "        vertical-align: top;\n",
       "    }\n",
       "\n",
       "    .dataframe thead th {\n",
       "        text-align: right;\n",
       "    }\n",
       "</style>\n",
       "<table border=\"1\" class=\"dataframe\">\n",
       "  <thead>\n",
       "    <tr style=\"text-align: right;\">\n",
       "      <th></th>\n",
       "      <th>rand_unit</th>\n",
       "      <th>variant</th>\n",
       "      <th>metric_bin</th>\n",
       "      <th>metric_cont</th>\n",
       "    </tr>\n",
       "  </thead>\n",
       "  <tbody>\n",
       "    <tr>\n",
       "      <th>0</th>\n",
       "      <td>0</td>\n",
       "      <td>3</td>\n",
       "      <td>0</td>\n",
       "      <td>1</td>\n",
       "    </tr>\n",
       "    <tr>\n",
       "      <th>1</th>\n",
       "      <td>1</td>\n",
       "      <td>2</td>\n",
       "      <td>0</td>\n",
       "      <td>0</td>\n",
       "    </tr>\n",
       "    <tr>\n",
       "      <th>2</th>\n",
       "      <td>2</td>\n",
       "      <td>1</td>\n",
       "      <td>0</td>\n",
       "      <td>1</td>\n",
       "    </tr>\n",
       "    <tr>\n",
       "      <th>3</th>\n",
       "      <td>3</td>\n",
       "      <td>2</td>\n",
       "      <td>0</td>\n",
       "      <td>0</td>\n",
       "    </tr>\n",
       "    <tr>\n",
       "      <th>4</th>\n",
       "      <td>4</td>\n",
       "      <td>3</td>\n",
       "      <td>1</td>\n",
       "      <td>0</td>\n",
       "    </tr>\n",
       "  </tbody>\n",
       "</table>\n",
       "</div>"
      ],
      "text/plain": [
       "   rand_unit  variant  metric_bin  metric_cont\n",
       "0          0        3           0            1\n",
       "1          1        2           0            0\n",
       "2          2        1           0            1\n",
       "3          3        2           0            0\n",
       "4          4        3           1            0"
      ]
     },
     "execution_count": 2,
     "metadata": {},
     "output_type": "execute_result"
    }
   ],
   "source": [
    "data = create_sample_ab_result(n_variant=3, sample_size=1000000, simulated_lift=[0, 0])\n",
    "data.head()"
   ]
  },
  {
   "cell_type": "code",
   "execution_count": 3,
   "metadata": {},
   "outputs": [],
   "source": [
    "evaluator = AATestEvaluator(n_variant=3, n_simulation=100)\n",
    "evaluator.evaluate(\n",
    "    data=data,\n",
    "    unit_col=\"rand_unit\",\n",
    "    metrics=[\"metric_bin\", \"metric_cont\"]\n",
    ")"
   ]
  },
  {
   "cell_type": "code",
   "execution_count": 4,
   "metadata": {},
   "outputs": [
    {
     "ename": "UnboundLocalError",
     "evalue": "local variable 'fig' referenced before assignment",
     "output_type": "error",
     "traceback": [
      "\u001b[0;31m---------------------------------------------------------------------------\u001b[0m",
      "\u001b[0;31mUnboundLocalError\u001b[0m                         Traceback (most recent call last)",
      "Cell \u001b[0;32mIn [4], line 1\u001b[0m\n\u001b[0;32m----> 1\u001b[0m \u001b[43mevaluator\u001b[49m\u001b[38;5;241;43m.\u001b[39;49m\u001b[43msummary\u001b[49m\u001b[43m(\u001b[49m\u001b[43m)\u001b[49m\n",
      "File \u001b[0;32m~/Personal/casual_inference/casual_inference/evaluator/aatest.py:61\u001b[0m, in \u001b[0;36mAATestEvaluator.summary\u001b[0;34m(self)\u001b[0m\n\u001b[1;32m     58\u001b[0m \u001b[39mif\u001b[39;00m \u001b[39mself\u001b[39m\u001b[39m.\u001b[39mstats \u001b[39mis\u001b[39;00m \u001b[39mNone\u001b[39;00m:\n\u001b[1;32m     59\u001b[0m     \u001b[39mraise\u001b[39;00m \u001b[39mValueError\u001b[39;00m(\u001b[39m\"\u001b[39m\u001b[39mA/B test statistics haven\u001b[39m\u001b[39m'\u001b[39m\u001b[39mt been calculated. Please call evaluate() in advance.\u001b[39m\u001b[39m\"\u001b[39m)\n\u001b[0;32m---> 61\u001b[0m g \u001b[39m=\u001b[39m px\u001b[39m.\u001b[39;49mhistogram(\n\u001b[1;32m     62\u001b[0m     data_frame\u001b[39m=\u001b[39;49m\u001b[39mself\u001b[39;49m\u001b[39m.\u001b[39;49mstats,\n\u001b[1;32m     63\u001b[0m     x\u001b[39m=\u001b[39;49m\u001b[39m\"\u001b[39;49m\u001b[39mp_value\u001b[39;49m\u001b[39m\"\u001b[39;49m,\n\u001b[1;32m     64\u001b[0m     facet_col\u001b[39m=\u001b[39;49m\u001b[39m\"\u001b[39;49m\u001b[39mmetric\u001b[39;49m\u001b[39m\"\u001b[39;49m,\n\u001b[1;32m     65\u001b[0m     nbins\u001b[39m=\u001b[39;49m\u001b[39m100\u001b[39;49m\n\u001b[1;32m     66\u001b[0m )\n\u001b[1;32m     67\u001b[0m \u001b[39mreturn\u001b[39;00m g\n",
      "File \u001b[0;32m~/Library/Caches/pypoetry/virtualenvs/casual-inference-6HV74XZi-py3.9/lib/python3.9/site-packages/plotly/express/_chart_types.py:480\u001b[0m, in \u001b[0;36mhistogram\u001b[0;34m(data_frame, x, y, color, pattern_shape, facet_row, facet_col, facet_col_wrap, facet_row_spacing, facet_col_spacing, hover_name, hover_data, animation_frame, animation_group, category_orders, labels, color_discrete_sequence, color_discrete_map, pattern_shape_sequence, pattern_shape_map, marginal, opacity, orientation, barmode, barnorm, histnorm, log_x, log_y, range_x, range_y, histfunc, cumulative, nbins, text_auto, title, template, width, height)\u001b[0m\n\u001b[1;32m    434\u001b[0m \u001b[39mdef\u001b[39;00m \u001b[39mhistogram\u001b[39m(\n\u001b[1;32m    435\u001b[0m     data_frame\u001b[39m=\u001b[39m\u001b[39mNone\u001b[39;00m,\n\u001b[1;32m    436\u001b[0m     x\u001b[39m=\u001b[39m\u001b[39mNone\u001b[39;00m,\n\u001b[0;32m   (...)\u001b[0m\n\u001b[1;32m    472\u001b[0m     height\u001b[39m=\u001b[39m\u001b[39mNone\u001b[39;00m,\n\u001b[1;32m    473\u001b[0m ) \u001b[39m-\u001b[39m\u001b[39m>\u001b[39m go\u001b[39m.\u001b[39mFigure:\n\u001b[1;32m    474\u001b[0m     \u001b[39m\"\"\"\u001b[39;00m\n\u001b[1;32m    475\u001b[0m \u001b[39m    In a histogram, rows of `data_frame` are grouped together into a\u001b[39;00m\n\u001b[1;32m    476\u001b[0m \u001b[39m    rectangular mark to visualize the 1D distribution of an aggregate\u001b[39;00m\n\u001b[1;32m    477\u001b[0m \u001b[39m    function `histfunc` (e.g. the count or sum) of the value `y` (or `x` if\u001b[39;00m\n\u001b[1;32m    478\u001b[0m \u001b[39m    `orientation` is `'h'`).\u001b[39;00m\n\u001b[1;32m    479\u001b[0m \u001b[39m    \"\"\"\u001b[39;00m\n\u001b[0;32m--> 480\u001b[0m     \u001b[39mreturn\u001b[39;00m make_figure(\n\u001b[1;32m    481\u001b[0m         args\u001b[39m=\u001b[39;49m\u001b[39mlocals\u001b[39;49m(),\n\u001b[1;32m    482\u001b[0m         constructor\u001b[39m=\u001b[39;49mgo\u001b[39m.\u001b[39;49mHistogram,\n\u001b[1;32m    483\u001b[0m         trace_patch\u001b[39m=\u001b[39;49m\u001b[39mdict\u001b[39;49m(\n\u001b[1;32m    484\u001b[0m             histnorm\u001b[39m=\u001b[39;49mhistnorm,\n\u001b[1;32m    485\u001b[0m             histfunc\u001b[39m=\u001b[39;49mhistfunc,\n\u001b[1;32m    486\u001b[0m             cumulative\u001b[39m=\u001b[39;49m\u001b[39mdict\u001b[39;49m(enabled\u001b[39m=\u001b[39;49mcumulative),\n\u001b[1;32m    487\u001b[0m         ),\n\u001b[1;32m    488\u001b[0m         layout_patch\u001b[39m=\u001b[39;49m\u001b[39mdict\u001b[39;49m(barmode\u001b[39m=\u001b[39;49mbarmode, barnorm\u001b[39m=\u001b[39;49mbarnorm),\n\u001b[1;32m    489\u001b[0m     )\n",
      "File \u001b[0;32m~/Library/Caches/pypoetry/virtualenvs/casual-inference-6HV74XZi-py3.9/lib/python3.9/site-packages/plotly/express/_core.py:2226\u001b[0m, in \u001b[0;36mmake_figure\u001b[0;34m(args, constructor, trace_patch, layout_patch)\u001b[0m\n\u001b[1;32m   2223\u001b[0m \u001b[39mif\u001b[39;00m args\u001b[39m.\u001b[39mget(\u001b[39m\"\u001b[39m\u001b[39mmarginal_y\u001b[39m\u001b[39m\"\u001b[39m) \u001b[39mis\u001b[39;00m \u001b[39mnot\u001b[39;00m \u001b[39mNone\u001b[39;00m:\n\u001b[1;32m   2224\u001b[0m     ncols \u001b[39m+\u001b[39m\u001b[39m=\u001b[39m \u001b[39m1\u001b[39m\n\u001b[0;32m-> 2226\u001b[0m fig \u001b[39m=\u001b[39m init_figure(\n\u001b[1;32m   2227\u001b[0m     args, subplot_type, frame_list, nrows, ncols, col_labels, row_labels\n\u001b[1;32m   2228\u001b[0m )\n\u001b[1;32m   2230\u001b[0m \u001b[39m# Position traces in subplots\u001b[39;00m\n\u001b[1;32m   2231\u001b[0m \u001b[39mfor\u001b[39;00m frame \u001b[39min\u001b[39;00m frame_list:\n",
      "File \u001b[0;32m~/Library/Caches/pypoetry/virtualenvs/casual-inference-6HV74XZi-py3.9/lib/python3.9/site-packages/plotly/express/_core.py:2373\u001b[0m, in \u001b[0;36minit_figure\u001b[0;34m(args, subplot_type, frame_list, nrows, ncols, col_labels, row_labels)\u001b[0m\n\u001b[1;32m   2370\u001b[0m     _spacing_error_translator(e, \u001b[39m\"\u001b[39m\u001b[39mVertical\u001b[39m\u001b[39m\"\u001b[39m, \u001b[39m\"\u001b[39m\u001b[39mfacet_row_spacing\u001b[39m\u001b[39m\"\u001b[39m)\n\u001b[1;32m   2372\u001b[0m \u001b[39m# Remove explicit font size of row/col titles so template can take over\u001b[39;00m\n\u001b[0;32m-> 2373\u001b[0m \u001b[39mfor\u001b[39;00m annot \u001b[39min\u001b[39;00m fig\u001b[39m.\u001b[39mlayout\u001b[39m.\u001b[39mannotations:\n\u001b[1;32m   2374\u001b[0m     annot\u001b[39m.\u001b[39mupdate(font\u001b[39m=\u001b[39m\u001b[39mNone\u001b[39;00m)\n\u001b[1;32m   2376\u001b[0m \u001b[39mreturn\u001b[39;00m fig\n",
      "\u001b[0;31mUnboundLocalError\u001b[0m: local variable 'fig' referenced before assignment"
     ]
    }
   ],
   "source": [
    "evaluator.summary()"
   ]
  },
  {
   "cell_type": "code",
   "execution_count": null,
   "metadata": {},
   "outputs": [
    {
     "data": {
      "text/html": [
       "<div>\n",
       "<style scoped>\n",
       "    .dataframe tbody tr th:only-of-type {\n",
       "        vertical-align: middle;\n",
       "    }\n",
       "\n",
       "    .dataframe tbody tr th {\n",
       "        vertical-align: top;\n",
       "    }\n",
       "\n",
       "    .dataframe thead th {\n",
       "        text-align: right;\n",
       "    }\n",
       "</style>\n",
       "<table border=\"1\" class=\"dataframe\">\n",
       "  <thead>\n",
       "    <tr style=\"text-align: right;\">\n",
       "      <th></th>\n",
       "      <th>idx</th>\n",
       "      <th>metric</th>\n",
       "      <th>mean</th>\n",
       "      <th>count</th>\n",
       "      <th>stderr</th>\n",
       "      <th>abs_diff_mean</th>\n",
       "      <th>abs_diff_std</th>\n",
       "      <th>rel_diff_mean</th>\n",
       "      <th>p_value</th>\n",
       "    </tr>\n",
       "  </thead>\n",
       "  <tbody>\n",
       "  </tbody>\n",
       "</table>\n",
       "</div>"
      ],
      "text/plain": [
       "Empty DataFrame\n",
       "Columns: [idx, metric, mean, count, stderr, abs_diff_mean, abs_diff_std, rel_diff_mean, p_value]\n",
       "Index: []"
      ]
     },
     "execution_count": 6,
     "metadata": {},
     "output_type": "execute_result"
    }
   ],
   "source": [
    "evaluator.stats"
   ]
  },
  {
   "cell_type": "code",
   "execution_count": null,
   "metadata": {},
   "outputs": [],
   "source": []
  }
 ],
 "metadata": {
  "kernelspec": {
   "display_name": "Python 3.9.12 ('casual-inference-6HV74XZi-py3.9')",
   "language": "python",
   "name": "python3"
  },
  "language_info": {
   "codemirror_mode": {
    "name": "ipython",
    "version": 3
   },
   "file_extension": ".py",
   "mimetype": "text/x-python",
   "name": "python",
   "nbconvert_exporter": "python",
   "pygments_lexer": "ipython3",
   "version": "3.9.12"
  },
  "orig_nbformat": 4,
  "vscode": {
   "interpreter": {
    "hash": "af332a2049a5ff152aaff6a6b32a517b513d2c79e6f161b82188156c5f39f462"
   }
  }
 },
 "nbformat": 4,
 "nbformat_minor": 2
}
